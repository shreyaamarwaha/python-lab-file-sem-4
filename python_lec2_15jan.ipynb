{
 "cells": [
  {
   "cell_type": "code",
   "execution_count": null,
   "id": "5c998600-3234-4562-a036-bb93b8701299",
   "metadata": {},
   "outputs": [],
   "source": [
    "LAB-03"
   ]
  },
  {
   "cell_type": "markdown",
   "id": "c77803f7-8783-479b-8c8c-e9a8a6ba425e",
   "metadata": {},
   "source": [
    "1. Write a python program to swap two numbers using a third variable\n"
   ]
  },
  {
   "cell_type": "code",
   "execution_count": 33,
   "id": "17ab8a38-7a5e-4f9c-a21f-b35aa208d8f8",
   "metadata": {},
   "outputs": [
    {
     "name": "stdout",
     "output_type": "stream",
     "text": [
      "my name is Shreya Marwaha\n"
     ]
    },
    {
     "name": "stdin",
     "output_type": "stream",
     "text": [
      "Enter the first number:  2\n",
      "Enter the second number:  3\n"
     ]
    },
    {
     "name": "stdout",
     "output_type": "stream",
     "text": [
      "Before swapping:\n",
      "num1 = 2.0\n",
      "num2 = 3.0\n",
      "After swapping:\n",
      "num1 = 3.0\n",
      "num2 = 2.0\n"
     ]
    }
   ],
   "source": [
    "print(\"my name is Shreya Marwaha\")\n",
    "def swap_numbers(num1, num2):\n",
    "    temp = num1\n",
    "    num1 = num2\n",
    "    num2 = temp\n",
    "    print(\"After swapping:\")\n",
    "    print(\"num1 =\", num1)\n",
    "    print(\"num2 =\", num2)\n",
    "\n",
    "num1 = float(input(\"Enter the first number: \"))\n",
    "num2 = float(input(\"Enter the second number: \"))\n",
    "\n",
    "print(\"Before swapping:\")\n",
    "print(\"num1 =\", num1)\n",
    "print(\"num2 =\", num2)\n",
    "\n",
    "swap_numbers(num1, num2)\n"
   ]
  },
  {
   "cell_type": "markdown",
   "id": "a40e7a1d-4fb4-4309-8b4c-abede3d531d0",
   "metadata": {},
   "source": [
    "2. Write a python program to swap two numbers without using third variable\n"
   ]
  },
  {
   "cell_type": "code",
   "execution_count": 32,
   "id": "7f75b91e-1384-4f80-bf5f-d2c790d6788a",
   "metadata": {},
   "outputs": [
    {
     "name": "stdout",
     "output_type": "stream",
     "text": [
      "my name is Shreya Marwaha\n"
     ]
    },
    {
     "name": "stdin",
     "output_type": "stream",
     "text": [
      "Enter the first number:  23\n",
      "Enter the second number:  2\n"
     ]
    },
    {
     "name": "stdout",
     "output_type": "stream",
     "text": [
      "Before swapping:\n",
      "num1 = 23.0\n",
      "num2 = 2.0\n",
      "After swapping:\n",
      "num1 = 2.0\n",
      "num2 = 23.0\n"
     ]
    }
   ],
   "source": [
    "def swap_numbers(num1, num2):\n",
    "    num1 = num1 + num2\n",
    "    num2 = num1 - num2\n",
    "    num1 = num1 - num2\n",
    "    print(\"After swapping:\")\n",
    "    print(\"num1 =\", num1)\n",
    "    print(\"num2 =\", num2)\n",
    "    \n",
    "print(\"my name is Shreya Marwaha\")\n",
    "num1 = float(input(\"Enter the first number: \"))\n",
    "num2 = float(input(\"Enter the second number: \"))\n",
    "\n",
    "print(\"Before swapping:\")\n",
    "print(\"num1 =\", num1)\n",
    "print(\"num2 =\", num2)\n",
    "\n",
    "swap_numbers(num1, num2)"
   ]
  },
  {
   "cell_type": "markdown",
   "id": "e6f023df-c129-4b66-b3d1-01a754182eba",
   "metadata": {},
   "source": [
    "3. Write a python program to read two numbers and find the sum of their cubes\n"
   ]
  },
  {
   "cell_type": "code",
   "execution_count": 29,
   "id": "9375ae8c-c64b-44a9-ad75-099ffb40c040",
   "metadata": {},
   "outputs": [
    {
     "name": "stdout",
     "output_type": "stream",
     "text": [
      "my name is Shreya Marwaha\n"
     ]
    },
    {
     "name": "stdin",
     "output_type": "stream",
     "text": [
      "Enter the first number:  2\n",
      "Enter the second number:  3\n"
     ]
    },
    {
     "name": "stdout",
     "output_type": "stream",
     "text": [
      "The sum of cubes of 2.0 and 3.0 is: 35.0\n"
     ]
    }
   ],
   "source": [
    "def sum_of_cubes(num1, num2):\n",
    "    result = num1**3 + num2**3\n",
    "    return result\n",
    "print(\"my name is Shreya Marwaha\")\n",
    "num1 = float(input(\"Enter the first number: \"))\n",
    "num2 = float(input(\"Enter the second number: \"))\n",
    "\n",
    "result = sum_of_cubes(num1, num2)          \n",
    "print(f\"The sum of cubes of {num1} and {num2} is: {result}\")\n",
    "\n"
   ]
  },
  {
   "cell_type": "markdown",
   "id": "b2c56a6a-79c9-448f-860c-0e6dc4f90066",
   "metadata": {},
   "source": [
    "4. Write a python program to read three numbers and if any two variables are equal, print that number\n"
   ]
  },
  {
   "cell_type": "code",
   "execution_count": 25,
   "id": "e398265e-2379-4769-af51-514446651d73",
   "metadata": {},
   "outputs": [
    {
     "name": "stdin",
     "output_type": "stream",
     "text": [
      "Enter the first number:  2\n",
      "Enter the second number:  2\n",
      "Enter the third number:  2\n"
     ]
    },
    {
     "name": "stdout",
     "output_type": "stream",
     "text": [
      "my name is Shreya Marwaha\n",
      "2.0 and 2.0 are equal.\n"
     ]
    }
   ],
   "source": [
    "def check_and_print_equal(num1, num2, num3):\n",
    "    if num1 == num2:\n",
    "        print(f\"{num1} and {num2} are equal.\")\n",
    "    elif num1 == num3:\n",
    "        print(f\"{num1} and {num3} are equal.\")\n",
    "    elif num2 == num3:\n",
    "        print(f\"{num2} and {num3} are equal.\")\n",
    "    else:\n",
    "        print(\"No two numbers are equal.\")\n",
    "\n",
    "num1 = float(input(\"Enter the first number: \"))\n",
    "num2 = float(input(\"Enter the second number: \"))\n",
    "num3 = float(input(\"Enter the third number: \"))\n",
    "print(\"my name is Shreya Marwaha\")\n",
    "\n",
    "check_and_print_equal(num1, num2, num3)\n"
   ]
  },
  {
   "cell_type": "markdown",
   "id": "49ad786d-95f4-4adf-8b75-4a6a2d3fa52c",
   "metadata": {},
   "source": [
    "5. Write a python program to read three numbers and find the smallest among them\n"
   ]
  },
  {
   "cell_type": "code",
   "execution_count": 23,
   "id": "e499e955-62b1-4548-a158-476136ab9a80",
   "metadata": {},
   "outputs": [
    {
     "name": "stdout",
     "output_type": "stream",
     "text": [
      "my name is Shreya Marwaha\n"
     ]
    },
    {
     "name": "stdin",
     "output_type": "stream",
     "text": [
      "Enter the first number:  12\n",
      "Enter the second number:  12\n",
      "Enter the third number:  23\n"
     ]
    },
    {
     "name": "stdout",
     "output_type": "stream",
     "text": [
      "The smallest number among 12.0, 12.0, and 23.0 is: 12.0\n"
     ]
    }
   ],
   "source": [
    "def find_smallest(num1, num2, num3):\n",
    "    smallest = min(num1, num2, num3)\n",
    "    return smallest\n",
    "\n",
    "print(\"my name is Shreya Marwaha\")\n",
    "num1 = float(input(\"Enter the first number: \"))\n",
    "num2 = float(input(\"Enter the second number: \"))\n",
    "num3 = float(input(\"Enter the third number: \"))\n",
    "\n",
    "smallest = find_smallest(num1, num2, num3)\n",
    "\n",
    "print(f\"The smallest number among {num1}, {num2}, and {num3} is: {smallest}\")\n"
   ]
  },
  {
   "cell_type": "markdown",
   "id": "1b34b976-dcdd-4037-9e85-9d658ee3bae9",
   "metadata": {},
   "source": [
    "6. Write a python program to read three numbers and print them in ascending order (without using sort function)\n"
   ]
  },
  {
   "cell_type": "code",
   "execution_count": 22,
   "id": "1b4c04f5-8c1b-46f4-ad2e-0cb75207fbb0",
   "metadata": {},
   "outputs": [
    {
     "name": "stdin",
     "output_type": "stream",
     "text": [
      "Enter the first number:  12\n",
      "Enter the second number:  13\n",
      "Enter the third number:  14\n"
     ]
    },
    {
     "name": "stdout",
     "output_type": "stream",
     "text": [
      "my name is Shreya Marwaha\n",
      "In ascending order: 12.0, 13.0, 14.0\n"
     ]
    }
   ],
   "source": [
    "def print_in_ascending_order(num1, num2, num3):\n",
    "    if num1 <= num2 <= num3:\n",
    "        print(f\"In ascending order: {num1}, {num2}, {num3}\")\n",
    "    elif num1 <= num3 <= num2:\n",
    "        print(f\"In ascending order: {num1}, {num3}, {num2}\")\n",
    "    elif num2 <= num1 <= num3:\n",
    "        print(f\"In ascending order: {num2}, {num1}, {num3}\")\n",
    "    elif num2 <= num3 <= num1:\n",
    "        print(f\"In ascending order: {num2}, {num3}, {num1}\")\n",
    "    elif num3 <= num1 <= num2:\n",
    "        print(f\"In ascending order: {num3}, {num1}, {num2}\")\n",
    "    else:\n",
    "        print(f\"In ascending order: {num3}, {num2}, {num1}\")\n",
    "\n",
    "num1 = float(input(\"Enter the first number: \"))\n",
    "num2 = float(input(\"Enter the second number: \"))\n",
    "num3 = float(input(\"Enter the third number: \"))\n",
    "print(\"my name is Shreya Marwaha\")\n",
    "\n",
    "print_in_ascending_order(num1, num2, num3)\n"
   ]
  },
  {
   "cell_type": "markdown",
   "id": "da0d9fd0-7f6c-4cb4-b9a6-be0f9e101b70",
   "metadata": {},
   "source": [
    "7. Write a python program to read radius of a circle and print the area"
   ]
  },
  {
   "cell_type": "code",
   "execution_count": 20,
   "id": "03268caf-4eae-44a8-b8d2-d160fa50902e",
   "metadata": {},
   "outputs": [
    {
     "name": "stdout",
     "output_type": "stream",
     "text": [
      "my name is Shreya Marwaha\n"
     ]
    },
    {
     "name": "stdin",
     "output_type": "stream",
     "text": [
      "Enter the radius of the circle:  2\n"
     ]
    },
    {
     "name": "stdout",
     "output_type": "stream",
     "text": [
      "The area of the circle with radius 2.0 is: 12.57\n"
     ]
    }
   ],
   "source": [
    "import math\n",
    "\n",
    "print(\"my name is Shreya Marwaha\")\n",
    "\n",
    "def calculate_circle_area(radius):\n",
    "    area = math.pi * radius**2\n",
    "    return area\n",
    "\n",
    "radius = float(input(\"Enter the radius of the circle: \"))\n",
    "\n",
    "area = calculate_circle_area(radius)\n",
    "\n",
    "print(f\"The area of the circle with radius {radius} is: {area:.2f}\")\n"
   ]
  },
  {
   "cell_type": "markdown",
   "id": "d9796ad6-d96c-4c69-bfb8-0b8613e7fcca",
   "metadata": {},
   "source": [
    "8. Write a python program to read a number ,if it is an even number , print the square of that number and if it is odd number print cube of that number."
   ]
  },
  {
   "cell_type": "code",
   "execution_count": 19,
   "id": "8464d19e-e062-477f-ad91-cb34ed5c9632",
   "metadata": {},
   "outputs": [
    {
     "name": "stdin",
     "output_type": "stream",
     "text": [
      "Enter a number:  12\n"
     ]
    },
    {
     "name": "stdout",
     "output_type": "stream",
     "text": [
      "my name is Shreya Marwaha\n",
      "12 is an even number. Square: 144\n"
     ]
    }
   ],
   "source": [
    "def print_square_or_cube(number):\n",
    "    if number % 2 == 0:\n",
    "        result = number**2\n",
    "        print(f\"{number} is an even number. Square: {result}\")\n",
    "    else:\n",
    "        result = number**3\n",
    "        print(f\"{number} is an odd number. Cube: {result}\")\n",
    "\n",
    "number = int(input(\"Enter a number: \"))\n",
    "print(\"my name is Shreya Marwaha\")\n",
    "\n",
    "print_square_or_cube(number)\n"
   ]
  },
  {
   "cell_type": "code",
   "execution_count": null,
   "id": "dc5f07d2-8c80-4536-9007-d29862560b21",
   "metadata": {},
   "outputs": [],
   "source": []
  }
 ],
 "metadata": {
  "kernelspec": {
   "display_name": "Python 3 (ipykernel)",
   "language": "python",
   "name": "python3"
  },
  "language_info": {
   "codemirror_mode": {
    "name": "ipython",
    "version": 3
   },
   "file_extension": ".py",
   "mimetype": "text/x-python",
   "name": "python",
   "nbconvert_exporter": "python",
   "pygments_lexer": "ipython3",
   "version": "3.11.4"
  }
 },
 "nbformat": 4,
 "nbformat_minor": 5
}
