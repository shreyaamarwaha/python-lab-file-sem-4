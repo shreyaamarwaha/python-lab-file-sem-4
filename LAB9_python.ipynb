{
 "cells": [
  {
   "cell_type": "markdown",
   "id": "4ddb7eb9-a50f-4ac3-89c8-ad3ef360a2b8",
   "metadata": {},
   "source": [
    " 1. Write a Python program that create a class tringle and define two methods, create_triangle() and print_sides()."
   ]
  },
  {
   "cell_type": "code",
   "execution_count": 12,
   "id": "200589cb-6dab-49ce-87ce-9938fe8691d3",
   "metadata": {},
   "outputs": [
    {
     "name": "stdin",
     "output_type": "stream",
     "text": [
      "Enter side1 value:  2\n",
      "Enter side2 value:  3\n",
      "Enter side3 value:  4\n"
     ]
    },
    {
     "name": "stdout",
     "output_type": "stream",
     "text": [
      "The triangle has been created.\n",
      "The sides of the triangle are: 2 3 4\n"
     ]
    }
   ],
   "source": [
    "class Triangle:\n",
    "    def __init__(self, side1, side2, side3):\n",
    "        self.side1 = side1\n",
    "        self.side2 = side2\n",
    "        self.side3 = side3\n",
    "\n",
    "    def create_triangle(self):\n",
    "        print(\"The triangle has been created.\")\n",
    "\n",
    "    def print_sides(self):\n",
    "        print(\"The sides of the triangle are:\", self.side1, self.side2, self.side3)\n",
    "\n",
    "side1 = int(input(\"Enter side1 value: \"))\n",
    "side2 = int(input(\"Enter side2 value: \"))\n",
    "side3 = int(input(\"Enter side3 value: \"))\n",
    "\n",
    "triangle = Triangle(side1, side2, side3)\n",
    "\n",
    "triangle.create_triangle()\n",
    "triangle.print_sides()\n"
   ]
  },
  {
   "cell_type": "markdown",
   "id": "6925307e-27d4-4b7c-b5c4-59460b2000c5",
   "metadata": {},
   "source": [
    "### 2. Write a Python program to create a class with two methods get_String() and print_String().\n",
    "\n"
   ]
  },
  {
   "cell_type": "code",
   "execution_count": 19,
   "id": "b6d2b5f1-11f0-4e51-a236-55b2f749955f",
   "metadata": {},
   "outputs": [
    {
     "name": "stdin",
     "output_type": "stream",
     "text": [
      "Enter a string:  hello my name is shreya\n"
     ]
    },
    {
     "name": "stdout",
     "output_type": "stream",
     "text": [
      "String entered: hello my name is shreya\n"
     ]
    }
   ],
   "source": [
    "    def __init__(self):\n",
    "        self.string = \"\"\n",
    "\n",
    "    def get_String(self):\n",
    "        self.string = input(\"Enter a string: \")\n",
    "\n",
    "    def print_String(self):\n",
    "        print(\"String entered:\", self.string)\n",
    "\n",
    "manipulator = StringManipulator()\n",
    "\n",
    "manipulator.get_String()\n",
    "\n",
    "manipulator.print_String()\n"
   ]
  },
  {
   "cell_type": "markdown",
   "id": "9c83f14e-f98d-413c-b608-c737cb42f314",
   "metadata": {},
   "source": [
    "### 3. Write a Python program to create a class Rectangle that takes the parameter length and width. The class should also contain a method for computing its perimeter."
   ]
  },
  {
   "cell_type": "code",
   "execution_count": 27,
   "id": "04935cd9-ce7b-4aa5-9a56-985d4288c4d2",
   "metadata": {},
   "outputs": [
    {
     "name": "stdin",
     "output_type": "stream",
     "text": [
      "Enter the length of the rectangle:  2\n",
      "Enter the width of the rectangle:  2\n"
     ]
    },
    {
     "name": "stdout",
     "output_type": "stream",
     "text": [
      "The perimeter of the given rectangle is: 8\n"
     ]
    }
   ],
   "source": [
    "class Rectangle:\n",
    "    def __init__(self, length, width):\n",
    "        self.length = length\n",
    "        self.width = width\n",
    "\n",
    "    def compute_perimeter(self):\n",
    "        perimeter = 2 * (self.length + self.width)\n",
    "        print(\"The perimeter of the given rectangle is:\", perimeter)\n",
    "\n",
    "length = int(input(\"Enter the length of the rectangle: \"))\n",
    "width = int(input(\"Enter the width of the rectangle: \"))\n",
    "\n",
    "rectangle = Rectangle(length, width)\n",
    "\n",
    "rectangle.compute_perimeter()\n"
   ]
  },
  {
   "cell_type": "markdown",
   "id": "56b8c1ad-308c-4193-8f3c-d3677d14bcf4",
   "metadata": {},
   "source": [
    "### 4.  Write a Python program to create a class Circle  that takes the parameter radius. The class should also contain two methods for computing its area & perimeter respectively. Use constructor to implement initialization of parameters"
   ]
  },
  {
   "cell_type": "code",
   "execution_count": 37,
   "id": "7660c9ad-2256-4d05-b2dc-4bf2eb69b5a6",
   "metadata": {},
   "outputs": [
    {
     "name": "stdin",
     "output_type": "stream",
     "text": [
      "Enter the radius of the circle:  8\n"
     ]
    },
    {
     "name": "stdout",
     "output_type": "stream",
     "text": [
      "The area of the circle with radius 8.0 is 201.06192982974676\n",
      "The perimeter of the circle with radius 8.0 is 50.26548245743669\n"
     ]
    }
   ],
   "source": [
    "import math\n",
    "\n",
    "class Circle:\n",
    "    def __init__(self, radius):\n",
    "        self.radius = radius\n",
    "\n",
    "    def calculate_area(self):\n",
    "        area = math.pi * self.radius * self.radius\n",
    "        return area\n",
    "\n",
    "    def calculate_perimeter(self):\n",
    "        perimeter = 2 * math.pi * self.radius\n",
    "        return perimeter\n",
    "\n",
    "radius = float(input(\"Enter the radius of the circle: \"))\n",
    "\n",
    "circle = Circle(radius)\n",
    "\n",
    "area = circle.calculate_area()\n",
    "perimeter = circle.calculate_perimeter()\n",
    "\n",
    "print(f\"The area of the circle with radius {radius} is {area}\")\n",
    "print(f\"The perimeter of the circle with radius {radius} is {perimeter}\")\n"
   ]
  },
  {
   "cell_type": "markdown",
   "id": "ee5f142f-129c-4363-989f-a54a2eec4396",
   "metadata": {},
   "source": [
    "### 5.Create a Cricle class and intialize it with radius. Make two methods getArea and getCircumference inside this class."
   ]
  },
  {
   "cell_type": "code",
   "execution_count": 38,
   "id": "c6e1de35-60fd-4911-9643-03b226facf8f",
   "metadata": {},
   "outputs": [
    {
     "name": "stdout",
     "output_type": "stream",
     "text": [
      "Area of the circle: 78.53981633974483\n",
      "Circumference of the circle: 31.41592653589793\n"
     ]
    }
   ],
   "source": [
    "import math\n",
    "\n",
    "class Circle:\n",
    "    def __init__(self, radius):\n",
    "        self.radius = radius\n",
    "\n",
    "    def getArea(self):\n",
    "        area = math.pi * self.radius * self.radius\n",
    "        return area\n",
    "\n",
    "    def getCircumference(self):\n",
    "        circumference = 2 * math.pi * self.radius\n",
    "        return circumference\n",
    "\n",
    "circle = Circle(5)\n",
    "\n",
    "print(\"Area of the circle:\", circle.getArea())\n",
    "\n",
    "print(\"Circumference of the circle:\", circle.getCircumference())\n"
   ]
  },
  {
   "cell_type": "markdown",
   "id": "cef724e0-407b-4c6f-be2e-66ed7fa131c7",
   "metadata": {},
   "source": [
    "### 6. Create a Temprature class. Make two methods :\n",
    "1. convertFahrenheit - It will take celsius and will print it into Fahrenheit.\n",
    "2. convertCelsius - It will take Fahrenheit and will convert it into Celsius."
   ]
  },
  {
   "cell_type": "code",
   "execution_count": 40,
   "id": "c0600f40-58d6-4596-b771-4f958c29b4e6",
   "metadata": {},
   "outputs": [
    {
     "name": "stdout",
     "output_type": "stream",
     "text": [
      "20 Celsius is equal to 68.0 Fahrenheit.\n",
      "68 Fahrenheit is equal to 20.0 Celsius.\n"
     ]
    }
   ],
   "source": [
    "class Temperature:\n",
    "    def convertFahrenheit(self, celsius):\n",
    "        fahrenheit = (celsius * 9/5) + 32\n",
    "        print(f\"{celsius} Celsius is equal to {fahrenheit} Fahrenheit.\")\n",
    "\n",
    "    def convertCelsius(self, fahrenheit):\n",
    "        celsius = (fahrenheit - 32) * 5/9\n",
    "        print(f\"{fahrenheit} Fahrenheit is equal to {celsius} Celsius.\")\n",
    "\n",
    "temperature = Temperature()\n",
    "\n",
    "temperature.convertFahrenheit(20)\n",
    "\n",
    "temperature.convertCelsius(68)\n"
   ]
  },
  {
   "cell_type": "markdown",
   "id": "51d3e4b3-3556-4576-9290-728b60b28b96",
   "metadata": {},
   "source": [
    "### 7. Create a Student class and initialize it with name and roll number. Make methods to :\n",
    "1. Display - It should display all informations of the student.\n",
    "2. setAge - It should assign age to student\n",
    "3. setMarks - It should assign marks to the student."
   ]
  },
  {
   "cell_type": "code",
   "execution_count": 41,
   "id": "33f96c8e-b78d-40ef-a661-148c2d8be605",
   "metadata": {},
   "outputs": [
    {
     "name": "stdout",
     "output_type": "stream",
     "text": [
      "Student Name: John\n",
      "Roll Number: 101\n",
      "Age: 20\n",
      "Marks: 85\n"
     ]
    }
   ],
   "source": [
    "class Student:\n",
    "    def __init__(self, name, roll_number):\n",
    "        self.name = name\n",
    "        self.roll_number = roll_number\n",
    "        self.age = None\n",
    "        self.marks = None\n",
    "\n",
    "    def display(self):\n",
    "        print(\"Student Name:\", self.name)\n",
    "        print(\"Roll Number:\", self.roll_number)\n",
    "        print(\"Age:\", self.age)\n",
    "        print(\"Marks:\", self.marks)\n",
    "\n",
    "    def setAge(self, age):\n",
    "        self.age = age\n",
    "\n",
    "    def setMarks(self, marks):\n",
    "        self.marks = marks\n",
    "\n",
    "student1 = Student(\"John\", 101)\n",
    "\n",
    "student1.setAge(20)\n",
    "student1.setMarks(85)\n",
    "\n",
    "student1.display()\n"
   ]
  },
  {
   "cell_type": "code",
   "execution_count": 42,
   "id": "02a10444-c270-4afe-937b-314dd30d20ef",
   "metadata": {},
   "outputs": [
    {
     "name": "stdout",
     "output_type": "stream",
     "text": [
      "4 hours and 10 minutes\n",
      "Total minutes: 250\n"
     ]
    }
   ],
   "source": [
    "class Time:\n",
    "    def __init__(self, hours, minutes):\n",
    "        self.hours = hours\n",
    "        self.minutes = minutes\n",
    "\n",
    "    def addTime(self, time2):\n",
    "        total_minutes = self.hours * 60 + self.minutes + time2.hours * 60 + time2.minutes\n",
    "        added_hours, added_minutes = divmod(total_minutes, 60)\n",
    "        return Time(added_hours, added_minutes)\n",
    "\n",
    "    def displayTime(self):\n",
    "        print(f\"{self.hours} hours and {self.minutes} minutes\")\n",
    "\n",
    "    def displayMinute(self):\n",
    "        total_minutes = self.hours * 60 + self.minutes\n",
    "        print(\"Total minutes:\", total_minutes)\n",
    "\n",
    "time1 = Time(2, 50)\n",
    "time2 = Time(1, 20)\n",
    "\n",
    "result_time = time1.addTime(time2)\n",
    "\n",
    "result_time.displayTime()\n",
    "\n",
    "result_time.displayMinute()\n"
   ]
  },
  {
   "cell_type": "markdown",
   "id": "b77a037a-e6a0-4558-9a7d-f6e94051dd64",
   "metadata": {},
   "source": [
    " ### 9. Write a Python class to reverse a string word by word\n",
    " "
   ]
  },
  {
   "cell_type": "code",
   "execution_count": 43,
   "id": "76989114-864d-4d0d-a630-1d332587c7ce",
   "metadata": {},
   "outputs": [
    {
     "name": "stdout",
     "output_type": "stream",
     "text": [
      "Reversed string: you? are how world, Hello\n"
     ]
    }
   ],
   "source": [
    "class StringReverser:\n",
    "    def reverse_words(self, text):\n",
    "        words = text.split()\n",
    "        reversed_words = words[::-1]\n",
    "        reversed_text = ' '.join(reversed_words)\n",
    "        return reversed_text\n",
    "\n",
    "string_reverser = StringReverser()\n",
    "input_string = \"Hello world, how are you?\"\n",
    "reversed_string = string_reverser.reverse_words(input_string)\n",
    "print(\"Reversed string:\", reversed_string)\n"
   ]
  },
  {
   "cell_type": "code",
   "execution_count": null,
   "id": "be7e7b5a-2fd6-45d7-8f9d-a65f62a06b59",
   "metadata": {},
   "outputs": [],
   "source": []
  }
 ],
 "metadata": {
  "kernelspec": {
   "display_name": "Python 3 (ipykernel)",
   "language": "python",
   "name": "python3"
  },
  "language_info": {
   "codemirror_mode": {
    "name": "ipython",
    "version": 3
   },
   "file_extension": ".py",
   "mimetype": "text/x-python",
   "name": "python",
   "nbconvert_exporter": "python",
   "pygments_lexer": "ipython3",
   "version": "3.11.4"
  }
 },
 "nbformat": 4,
 "nbformat_minor": 5
}
