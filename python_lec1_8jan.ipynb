{
 "cells": [
  {
   "cell_type": "markdown",
   "id": "5389ce0c-8a5e-4aaf-aa11-b99dfe504f05",
   "metadata": {},
   "source": [
    "1. suppose we are writing a program for scenario for hospital . new patient, john smith, 20. define name age and a variable that tells wheather he is a new patient or a previously admitted patient  "
   ]
  },
  {
   "cell_type": "code",
   "execution_count": null,
   "id": "7c08e6db-cb67-4a0e-a8df-b65683a662f4",
   "metadata": {},
   "outputs": [],
   "source": []
  },
  {
   "cell_type": "code",
   "execution_count": 2,
   "id": "bed9a843-4d16-4e8f-a367-cfef4e4cef8a",
   "metadata": {},
   "outputs": [],
   "source": [
    "name= \"John Smith\";\n",
    "age = 30;   \n",
    "gender = 'male';    \n",
    "isNewlyadmitted = True;\n",
    "isOldPatient = False;"
   ]
  },
  {
   "cell_type": "markdown",
   "id": "7c99a20b-c211-4f1d-a273-7991d36ec014",
   "metadata": {},
   "source": [
    "2. create a program to create 2 ques, name and fav color"
   ]
  },
  {
   "cell_type": "code",
   "execution_count": 3,
   "id": "1f43a8f9-cf9d-4cfb-8dce-336713ea4bd2",
   "metadata": {},
   "outputs": [
    {
     "name": "stdin",
     "output_type": "stream",
     "text": [
      "what is your name shreya\n",
      "what is your favorite color?  hello\n"
     ]
    },
    {
     "name": "stdout",
     "output_type": "stream",
     "text": [
      "her name is shreya and her favourite color is hello\n"
     ]
    }
   ],
   "source": [
    "name = input(\"what is your name\");\n",
    "color = input (\"what is your favorite color? \");\n",
    "print(\"her name is\",name, \"and her favourite color is\", color);"
   ]
  },
  {
   "cell_type": "markdown",
   "id": "f238df2b-a6a0-4781-8ef8-b5ec37fbe977",
   "metadata": {},
   "source": [
    "_____________________________________________________________________"
   ]
  },
  {
   "cell_type": "markdown",
   "id": "d177b14d-b9f2-475b-ba39-0c9c6de8c1fc",
   "metadata": {},
   "source": [
    "Lab 01"
   ]
  },
  {
   "cell_type": "markdown",
   "id": "0921d6be-5d42-4f31-b2ce-785639b6b804",
   "metadata": {},
   "source": [
    "_____________________________________________________________________"
   ]
  },
  {
   "cell_type": "markdown",
   "id": "5ff6a83a-ec0c-417c-b52f-4ba4bb7b03d1",
   "metadata": {},
   "source": [
    "1. Introducing the Python language, Understanding the Python shell. Python is a high-level, interpreted programming language that focuses on code readability and simplicity. It was created by Guido van Rossum and first released in 1991.\n",
    "To use Python, you can open a terminal and type 'python' or 'python3'. This will start the Python shell where you can enter and execute Python commands one at a time.\n"
   ]
  },
  {
   "cell_type": "markdown",
   "id": "c454a203-bcdd-4b43-a1a7-9ac7f1650b57",
   "metadata": {},
   "source": [
    "2. Development environment setup, Configuring – Installation of Anaconda IDE. Anaconda is a distribution of Python and R for data science and machine learning applications. It comes with a package manager, Conda, and over 1,500 pre-built packages.\n",
    "To install Anaconda, follow these steps:\n",
    "\n",
    "Download the installer from the official website: https://www.anaconda.com/distribution/\n",
    "\n",
    "Run the installer and follow the on-screen instructions.\n",
    "\n",
    "After the installation is complete, open a terminal and type 'conda info' to check if the installation was successful.\n"
   ]
  },
  {
   "cell_type": "markdown",
   "id": "d2175ac4-d5e1-4701-b7be-e37f1ddcad81",
   "metadata": {},
   "source": [
    "3. Introduction to jupyter notebook. Jupyter Notebook is an open-source web application that allows you to create and share documents that contain live code, equations, visualizations, and narrative text.\n",
    "\n",
    "To use Jupyter Notebook, you need to install it first. Open a terminal and type 'pip install notebook' or 'conda install notebook' depending on your Python distribution.\n",
    "\n",
    "Then, you can start Jupyter Notebook by running 'jupyter notebook' in your terminal. This will open a new browser window with the Jupyter Notebook interface.\n",
    "\n",
    "Working with jupyter notebook. Jupyter Notebook is divided into cells. Each cell can contain either Python code or markdown text.\n",
    "To add a new cell, click on the '+' button at the top of the page. To execute a cell, click on the 'Run' button.\n",
    "\n",
    "You can also change the type of a cell by clicking on the cell's type indicator in the top-right corner (e.g., 'Code' or 'Markdown')."
   ]
  },
  {
   "cell_type": "markdown",
   "id": "5f1ae36b-df44-4d75-91a5-b8f8eb9926c9",
   "metadata": {},
   "source": [
    "4. Writing a simple program. Here's a simple Python program that prints \"Hello, World!\" to the screen:\n",
    "python\n",
    "\n",
    "print(\"Hello, World!\")\n",
    "In Jupyter Notebook, you can create a new code cell, paste the code into the cell, and execute it. The output of the code will be displayed below the cell."
   ]
  },
  {
   "cell_type": "markdown",
   "id": "00d27384-96e1-4835-b64b-0e069a6c8bb1",
   "metadata": {},
   "source": [
    "_____________________________________________________________________"
   ]
  },
  {
   "cell_type": "markdown",
   "id": "98bb2ee4-9a75-4952-ad7b-23fe4909841c",
   "metadata": {},
   "source": [
    "LAB-02"
   ]
  },
  {
   "cell_type": "markdown",
   "id": "0077959c-75ab-45cf-b721-cf741ccdc27a",
   "metadata": {},
   "source": [
    "_____________________________________________________________________"
   ]
  },
  {
   "cell_type": "code",
   "execution_count": null,
   "id": "80271a17-8148-4ca8-952e-b76d3d05dc51",
   "metadata": {},
   "outputs": [],
   "source": [
    "\"\"\"\n",
    "\n",
    "1. Write a program to demonstrate basic data type in python.\n",
    "2. Check whether a number is even or odd\n",
    "3. Check whether an entered year is leap year or not. \n",
    "4. Write a program to check whether a character is vowel or consonants. \n",
    "5. Write a program to find the smallest of two numbers.\n",
    "6. Find the Factorial of a Number \n",
    "7. Write a program to print this patterns \n",
    "        *\n",
    "    *     *\n",
    " *    *     *\n",
    "        *   *     *     *  \n",
    "8. Write a program to print this series\n",
    "            1 1 2 3 5 8 13\n",
    "9. Check whether a number is prime or not\n",
    "10. Make a Simple Calculator.\n",
    "\n",
    "\"\"\""
   ]
  },
  {
   "cell_type": "code",
   "execution_count": 4,
   "id": "01cf1dba-22f2-48b8-87df-4951776fe580",
   "metadata": {},
   "outputs": [
    {
     "name": "stdout",
     "output_type": "stream",
     "text": [
      "Integer variable: 10\n",
      "Float variable: 3.14\n",
      "Boolean variable: True\n",
      "String variable: Hello, Python!\n",
      "List variable: [1, 2, 3, 4, 5]\n",
      "Tuple variable: (1, 2, 3)\n",
      "Dictionary variable: {'name': 'John', 'age': 30}\n"
     ]
    }
   ],
   "source": [
    "#1. Write a program to demonstrate basic data type in python.\n",
    "\n",
    "#integer variables\n",
    "integer_var = 10\n",
    "\n",
    "#floating point variables\n",
    "float_var = 3.14\n",
    "\n",
    "#a boolean variable\n",
    "bool_var = True\n",
    "\n",
    "# string variable\n",
    "string_var = \"Hello, Python!\"\n",
    "\n",
    "# a list variable\n",
    "list_var = [1, 2, 3, 4, 5]\n",
    "\n",
    "# a tuple variable\n",
    "tuple_var = (1, 2, 3)\n",
    "\n",
    "# a dictionary variable\n",
    "dict_var = {\"name\": \"John\", \"age\": 30}\n",
    "\n",
    "# Printing the variables to verify their values\n",
    "print(\"Integer variable:\", integer_var)\n",
    "print(\"Float variable:\", float_var)\n",
    "print(\"Boolean variable:\", bool_var)\n",
    "print(\"String variable:\", string_var)\n",
    "print(\"List variable:\", list_var)\n",
    "print(\"Tuple variable:\", tuple_var)\n",
    "print(\"Dictionary variable:\", dict_var)\n"
   ]
  },
  {
   "cell_type": "markdown",
   "id": "a5ab821a-1a44-410d-99a9-8abe7c6eb6bc",
   "metadata": {},
   "source": [
    "Q4. PROGRAM TO Check whether a number is even or odd"
   ]
  },
  {
   "cell_type": "code",
   "execution_count": 6,
   "id": "de03c7b5-b60d-4ca5-9d53-2b31359049e7",
   "metadata": {},
   "outputs": [
    {
     "name": "stdin",
     "output_type": "stream",
     "text": [
      "Enter a number:  3\n"
     ]
    },
    {
     "name": "stdout",
     "output_type": "stream",
     "text": [
      "The number 3 is odd.\n"
     ]
    }
   ],
   "source": [
    "number = int(input(\"Enter a number: \"))\n",
    "\n",
    "# Check if the number is even or odd\n",
    "if number % 2 == 0:\n",
    "    print(\"The number\", number, \"is even.\")\n",
    "else:\n",
    "    print(\"The number\", number, \"is odd.\")\n"
   ]
  },
  {
   "cell_type": "markdown",
   "id": "47bc6f75-47f3-4073-a1d5-9a85d32dfad2",
   "metadata": {},
   "source": [
    "Q5. PROGRAM TO CHECK Check whether an entered year is leap year or not. "
   ]
  },
  {
   "cell_type": "code",
   "execution_count": 10,
   "id": "3e144025-de2c-4cff-b6b0-c63ca7789513",
   "metadata": {},
   "outputs": [
    {
     "name": "stdin",
     "output_type": "stream",
     "text": [
      "Enter a year: 2005\n"
     ]
    },
    {
     "name": "stdout",
     "output_type": "stream",
     "text": [
      "2005 is not a leap year.\n"
     ]
    }
   ],
   "source": [
    "\n",
    "def is_leap_year(year):\n",
    "        if year % 4 != 0:\n",
    "            return False\n",
    "        elif year % 100 != 0:\n",
    "            return True\n",
    "        elif year % 400 != 0:\n",
    "            return False\n",
    "        else:\n",
    "            return True\n",
    "year = int(input(\"Enter a year:\"))\n",
    "\n",
    "if is_leap_year(year):\n",
    "       \n",
    "       print(f\"{year} is a leap year.\")\n",
    "else:\n",
    "       print(f\"{year} is not a leap year.\")\n",
    "\n"
   ]
  },
  {
   "cell_type": "markdown",
   "id": "5e33faf5-74c0-48d1-8092-ac1adb5b0ddc",
   "metadata": {},
   "source": [
    "Q5. Write a program to check whether a character is vowel or consonants. "
   ]
  },
  {
   "cell_type": "code",
   "execution_count": 11,
   "id": "6fe7e9c9-e6c4-4d14-bb73-927f384d8899",
   "metadata": {},
   "outputs": [
    {
     "name": "stdin",
     "output_type": "stream",
     "text": [
      "Enter a character:  e\n"
     ]
    },
    {
     "name": "stdout",
     "output_type": "stream",
     "text": [
      "Vowel\n"
     ]
    }
   ],
   "source": [
    "#vowels checker\n",
    "def check_char(char):\n",
    "    char = char.lower()\n",
    "    vowels = 'aeiou'\n",
    "\n",
    "    if char in vowels:\n",
    "        return \"Vowel\"\n",
    "    elif char.isalpha():\n",
    "        return \"Consonant\"\n",
    "    else:\n",
    "        return \"Not a letter\"\n",
    "\n",
    "char = input(\"Enter a character: \")\n",
    "\n",
    "print(check_char(char))\n"
   ]
  },
  {
   "cell_type": "markdown",
   "id": "4a21cdac-e68b-4cbe-bf5c-8e97cd18c9a1",
   "metadata": {},
   "source": [
    "Q6. Write a program to find the smallest of two numbers."
   ]
  },
  {
   "cell_type": "code",
   "execution_count": 12,
   "id": "8a13f995-1a23-453d-815f-6a867e34cc02",
   "metadata": {},
   "outputs": [
    {
     "name": "stdin",
     "output_type": "stream",
     "text": [
      "Enter the first number:  2\n",
      "Enter the second number:  1\n"
     ]
    },
    {
     "name": "stdout",
     "output_type": "stream",
     "text": [
      "The smallest number is:  1\n"
     ]
    }
   ],
   "source": [
    "def find_smallest(num1, num2):\n",
    "    if num1 < num2:\n",
    "        return num1\n",
    "    else:\n",
    "        return num2\n",
    "\n",
    "num1 = int(input(\"Enter the first number: \"))\n",
    "num2 = int(input(\"Enter the second number: \"))\n",
    "\n",
    "smallest = find_smallest(num1, num2)\n",
    "print(\"The smallest number is: \", smallest)\n"
   ]
  },
  {
   "cell_type": "markdown",
   "id": "a103af64-a152-4b57-9187-bfacbb180aa3",
   "metadata": {},
   "source": [
    "Q7. PROGRAM FOR finding the factorial of a number"
   ]
  },
  {
   "cell_type": "code",
   "execution_count": 33,
   "id": "63818e58-f2d0-4bfb-a0b8-6a4a795636b9",
   "metadata": {},
   "outputs": [
    {
     "name": "stdin",
     "output_type": "stream",
     "text": [
      "Enter a number:  2\n"
     ]
    },
    {
     "name": "stdout",
     "output_type": "stream",
     "text": [
      "The factorial of 2 is:  2\n"
     ]
    }
   ],
   "source": [
    "\n",
    "def factorial(num):\n",
    "    if num == 0:\n",
    "        return 1\n",
    "    else:\n",
    "        return num * factorial(num - 1)\n",
    "\n",
    "num = int(input(\"Enter a number: \"))\n",
    "\n",
    "fact = factorial(num)\n",
    "print(\"The factorial of\", num, \"is: \", fact)"
   ]
  },
  {
   "cell_type": "markdown",
   "id": "937685c2-367b-4948-b9b1-04534ae119c6",
   "metadata": {},
   "source": [
    "Q7. Program for printing the given pattern."
   ]
  },
  {
   "cell_type": "code",
   "execution_count": 17,
   "id": "a87129a3-0016-4f12-96c4-7ed86d646926",
   "metadata": {},
   "outputs": [
    {
     "name": "stdin",
     "output_type": "stream",
     "text": [
      "Enter the number of lines for the pattern:  8\n"
     ]
    },
    {
     "name": "stdout",
     "output_type": "stream",
     "text": [
      "       *\n",
      "      **\n",
      "     ***\n",
      "    ****\n",
      "   *****\n",
      "  ******\n",
      " *******\n",
      "********\n"
     ]
    }
   ],
   "source": [
    "\n",
    "def print_pattern(n):\n",
    "    lines = []\n",
    "    for i in range(1, n + 1):\n",
    "        lines.append(' ' * (n - i) + '*' * i)\n",
    "    pattern = '\\n'.join(lines)\n",
    "    print(pattern)\n",
    "\n",
    "n = int(input(\"Enter the number of lines for the pattern: \"))\n",
    "\n",
    "print_pattern(n)\n"
   ]
  },
  {
   "cell_type": "markdown",
   "id": "a118c7bd-b710-4391-bba6-d53ff89fa246",
   "metadata": {},
   "source": [
    "Q8. Write a program to print this series\n",
    "            1 1 2 3 5 8 13"
   ]
  },
  {
   "cell_type": "code",
   "execution_count": 18,
   "id": "3656a4cc-c0dc-49e9-b6f5-a784b36eb234",
   "metadata": {},
   "outputs": [
    {
     "name": "stdin",
     "output_type": "stream",
     "text": [
      "Enter the number of terms for the series:  4\n"
     ]
    },
    {
     "name": "stdout",
     "output_type": "stream",
     "text": [
      "1 1 2 3 "
     ]
    }
   ],
   "source": [
    "def print_series(n):\n",
    "    if n < 0:\n",
    "        print(\"Please enter a non-negative number.\")\n",
    "        return\n",
    "\n",
    "    print(1, end=' ')\n",
    "    if n >= 2:\n",
    "        print(1, end=' ')\n",
    "\n",
    "    a, b = 1, 1\n",
    "    for i in range(3, n + 1):\n",
    "        a, b = b, a + b\n",
    "        print(b, end=' ')\n",
    "\n",
    "n = int(input(\"Enter the number of terms for the series: \"))\n",
    "print_series(n)"
   ]
  },
  {
   "cell_type": "markdown",
   "id": "5b987454-cd2a-4d8c-8ce4-d3f9b051abc5",
   "metadata": {},
   "source": [
    "Q9. checking if the given number is prime or not"
   ]
  },
  {
   "cell_type": "code",
   "execution_count": 20,
   "id": "da5548d4-4d62-4416-9dea-99d4b248d7b5",
   "metadata": {},
   "outputs": [
    {
     "name": "stdin",
     "output_type": "stream",
     "text": [
      "Enter a number:  5\n"
     ]
    },
    {
     "name": "stdout",
     "output_type": "stream",
     "text": [
      "5 is a prime number.\n"
     ]
    }
   ],
   "source": [
    "\n",
    "def is_prime(n):\n",
    "    if n <= 1:\n",
    "        return False\n",
    "    elif n <= 3:\n",
    "        return True\n",
    "    elif n % 2 == 0 or n % 3 == 0:\n",
    "        return False\n",
    "    i = 5\n",
    "    while i * i <= n:\n",
    "        if n % i == 0 or n % (i + 2) == 0:\n",
    "            return False\n",
    "        i += 6\n",
    "    return True\n",
    "\n",
    "number = int(input(\"Enter a number: \"))\n",
    "if is_prime(number):\n",
    "    print(number, \"is a prime number.\")\n",
    "else:\n",
    "    print(number, \"is not a prime number.\")"
   ]
  },
  {
   "cell_type": "markdown",
   "id": "bbd05675-8af4-4354-87cf-b851e20d850a",
   "metadata": {},
   "source": [
    "Q10. MAKING A SIMPLE CALCULATOR"
   ]
  },
  {
   "cell_type": "code",
   "execution_count": 24,
   "id": "c70c423f-47b0-4ca4-8d34-61be6e2e3a50",
   "metadata": {},
   "outputs": [
    {
     "name": "stdout",
     "output_type": "stream",
     "text": [
      "Select operation:\n",
      "1. Add\n",
      "2. Subtract\n",
      "3. Multiply\n",
      "4. Divide\n"
     ]
    },
    {
     "name": "stdin",
     "output_type": "stream",
     "text": [
      "Enter choice(1/2/3/4):  3\n",
      "Enter first number:  2\n",
      "Enter second number:  3\n"
     ]
    },
    {
     "name": "stdout",
     "output_type": "stream",
     "text": [
      "2.0 * 3.0 = 6.0\n"
     ]
    },
    {
     "name": "stdin",
     "output_type": "stream",
     "text": [
      "Do you want to continue calculation (yes/no):  no\n"
     ]
    },
    {
     "name": "stdout",
     "output_type": "stream",
     "text": [
      "Exiting the calculator...\n",
      "bye!\n"
     ]
    }
   ],
   "source": [
    "def add(x, y):\n",
    "    return x + y\n",
    "\n",
    "def subtract(x, y):\n",
    "    return x - y\n",
    "\n",
    "def multiply(x, y):\n",
    "    return x * y\n",
    "\n",
    "def divide(x, y):\n",
    "    if y == 0:\n",
    "        return \"Error: Division by zero is not allowed.\"\n",
    "    else:\n",
    "        return x / y\n",
    "\n",
    "while True:\n",
    "    print(\"Select operation:\")\n",
    "    print(\"1. Add\")\n",
    "    print(\"2. Subtract\")\n",
    "    print(\"3. Multiply\")\n",
    "    print(\"4. Divide\")\n",
    "    choice = input(\"Enter choice(1/2/3/4): \")\n",
    "\n",
    "    if choice in ('1', '2', '3', '4'):\n",
    "        num1 = float(input(\"Enter first number: \"))\n",
    "        num2 = float(input(\"Enter second number: \"))\n",
    "\n",
    "        if choice == '1':\n",
    "            print(num1, \"+\", num2, \"=\", add(num1, num2))\n",
    "\n",
    "        elif choice == '2':\n",
    "            print(num1, \"-\", num2, \"=\", subtract(num1, num2))\n",
    "\n",
    "        elif choice == '3':\n",
    "            print(num1, \"*\", num2, \"=\", multiply(num1, num2))\n",
    "\n",
    "        elif choice == '4':\n",
    "            print(num1, \"/\", num2, \"=\", divide(num1, num2))\n",
    "            \n",
    "        next_calculation = input(\"Do you want to continue calculation (yes/no): \")\n",
    "        if next_calculation == \"no\":\n",
    "          print(\"Exiting the calculator...\")\n",
    "          print(\"bye!\")\n",
    "          break\n",
    "\n",
    "    else:\n",
    "        print(\"Invalid input, please enter correct choice.\")"
   ]
  },
  {
   "cell_type": "code",
   "execution_count": null,
   "id": "2b890c0f-23ea-40d5-808e-ee3cdec5a74b",
   "metadata": {},
   "outputs": [],
   "source": [
    "def "
   ]
  }
 ],
 "metadata": {
  "kernelspec": {
   "display_name": "Python 3 (ipykernel)",
   "language": "python",
   "name": "python3"
  },
  "language_info": {
   "codemirror_mode": {
    "name": "ipython",
    "version": 3
   },
   "file_extension": ".py",
   "mimetype": "text/x-python",
   "name": "python",
   "nbconvert_exporter": "python",
   "pygments_lexer": "ipython3",
   "version": "3.11.4"
  }
 },
 "nbformat": 4,
 "nbformat_minor": 5
}
